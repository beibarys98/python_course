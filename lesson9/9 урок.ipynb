{
 "cells": [
  {
   "cell_type": "code",
   "execution_count": 1,
   "id": "81de73a1-57da-4ec9-b076-70d315172652",
   "metadata": {},
   "outputs": [
    {
     "name": "stdin",
     "output_type": "stream",
     "text": [
      "напиши имя  rasul \n",
      "напиши фамилию dauletov\n"
     ]
    },
    {
     "name": "stdout",
     "output_type": "stream",
     "text": [
      "rasul dauletov\n"
     ]
    }
   ],
   "source": [
    "name = input('напиши имя ')\n",
    "surname = input('напиши фамилию')\n",
    "print(name + surname)"
   ]
  },
  {
   "cell_type": "code",
   "execution_count": 25,
   "id": "b1e75699-d101-47ff-9e5b-aac02e50118e",
   "metadata": {},
   "outputs": [
    {
     "name": "stdout",
     "output_type": "stream",
     "text": [
      "Red\n",
      "Black\n"
     ]
    }
   ],
   "source": [
    "color_list = ['Red','Green','White','Black']\n",
    "print(color_list[0])\n",
    "print(color_list[3])"
   ]
  },
  {
   "cell_type": "code",
   "execution_count": 125,
   "id": "67fb58c4-ff04-4136-beec-ed73fdda2863",
   "metadata": {},
   "outputs": [
    {
     "ename": "TypeError",
     "evalue": "'str' object is not callable",
     "output_type": "error",
     "traceback": [
      "\u001b[1;31m---------------------------------------------------------------------------\u001b[0m",
      "\u001b[1;31mTypeError\u001b[0m                                 Traceback (most recent call last)",
      "Cell \u001b[1;32mIn[125], line 1\u001b[0m\n\u001b[1;32m----> 1\u001b[0m r \u001b[38;5;241m=\u001b[39m \u001b[38;5;28mfloat\u001b[39m(\u001b[38;5;28minput\u001b[39m(\u001b[38;5;124m\"\u001b[39m\u001b[38;5;124mрадиус шара напиши  \u001b[39m\u001b[38;5;124m\"\u001b[39m))\n\u001b[0;32m      2\u001b[0m \u001b[38;5;28mprint\u001b[39m(\u001b[38;5;241m4\u001b[39m \u001b[38;5;241m/\u001b[39m \u001b[38;5;241m3\u001b[39m \u001b[38;5;241m*\u001b[39m \u001b[38;5;241m3\u001b[39m,\u001b[38;5;241m14\u001b[39m \u001b[38;5;241m*\u001b[39m r\u001b[38;5;241m*\u001b[39m\u001b[38;5;241m*\u001b[39m\u001b[38;5;241m3\u001b[39m)\n",
      "\u001b[1;31mTypeError\u001b[0m: 'str' object is not callable"
     ]
    }
   ],
   "source": [
    "\n",
    "    r = float(input(\"радиус шара напиши  \"))\n",
    "    print(4 / 3 * 3,14 * r**3)"
   ]
  },
  {
   "cell_type": "code",
   "execution_count": 1,
   "id": "9b22557c-4b2f-40b1-b58b-c0f633210ae6",
   "metadata": {},
   "outputs": [
    {
     "name": "stdin",
     "output_type": "stream",
     "text": [
      "Введите число:  6\n"
     ]
    },
    {
     "name": "stdout",
     "output_type": "stream",
     "text": [
      "Число четное\n"
     ]
    }
   ],
   "source": [
    "input_number = int(input(\"Введите число: \"))\n",
    "\n",
    "if input_number % 2 == 0:\n",
    "    print(\"Число четное\")\n",
    "else:\n",
    "    print(\"Число нечетное\")\n",
    "    "
   ]
  },
  {
   "cell_type": "code",
   "execution_count": null,
   "id": "461ab1ff-5c68-40b8-80c4-e8131d598898",
   "metadata": {},
   "outputs": [],
   "source": [
    "num = intput()\n"
   ]
  }
 ],
 "metadata": {
  "kernelspec": {
   "display_name": "Python 3 (ipykernel)",
   "language": "python",
   "name": "python3"
  },
  "language_info": {
   "codemirror_mode": {
    "name": "ipython",
    "version": 3
   },
   "file_extension": ".py",
   "mimetype": "text/x-python",
   "name": "python",
   "nbconvert_exporter": "python",
   "pygments_lexer": "ipython3",
   "version": "3.12.4"
  }
 },
 "nbformat": 4,
 "nbformat_minor": 5
}
