{
 "cells": [
  {
   "cell_type": "code",
   "execution_count": 1,
   "id": "e212eee6-a541-485e-a73d-8dd94625ac5a",
   "metadata": {},
   "outputs": [
    {
     "name": "stdout",
     "output_type": "stream",
     "text": [
      "Buddy says Woof!\n",
      "Buddy is 3 years old.\n",
      "Buddy bites someone :(\n"
     ]
    }
   ],
   "source": [
    "class Dog:\n",
    "    def __init__(self, name, age):\n",
    "        self.name = name\n",
    "        self.age = age\n",
    "\n",
    "    def bark(self):\n",
    "        return f\"{self.name} says Woof!\"\n",
    "\n",
    "    def describe(self):\n",
    "        return f\"{self.name} is {self.age} years old.\"\n",
    "\n",
    "    def bite(self):\n",
    "        return f\"{self.name} bites someone :(\"\n",
    "\n",
    "my_dog = Dog(\"Buddy\", 3)\n",
    "\n",
    "print(my_dog.bark())\n",
    "print(my_dog.describe())\n",
    "print(my_dog.bite())"
   ]
  },
  {
   "cell_type": "code",
   "execution_count": 3,
   "id": "5106edd3-dedf-4c2e-be17-f43a6e605f7e",
   "metadata": {},
   "outputs": [
    {
     "name": "stdout",
     "output_type": "stream",
     "text": [
      "The book '1984' was written by G.Orwell in 1949.\n"
     ]
    }
   ],
   "source": [
    "class Book:\n",
    "    def __init__(self, title, author, year):\n",
    "        self.title = title\n",
    "        self.author = author\n",
    "        self.year = year\n",
    "\n",
    "    def get_info(self):\n",
    "        return f\"The book '{self.title}' was written by {self.author} in {self.year}.\"\n",
    "\n",
    "this_book = Book(\"1984\", \"G.Orwell\", 1949)\n",
    "\n",
    "print(this_book.get_info())"
   ]
  },
  {
   "cell_type": "code",
   "execution_count": 5,
   "id": "121fa9e5-d875-41e6-b694-4acecca71019",
   "metadata": {},
   "outputs": [
    {
     "name": "stdout",
     "output_type": "stream",
     "text": [
      "Model: Audi, Allroad, Year: 2005, Mileage is: 150000 miles.\n",
      "Driven 100 miles\n",
      "Model: Audi, Allroad, Year: 2005, Mileage is: 150100 miles.\n"
     ]
    }
   ],
   "source": [
    "class Car:\n",
    "    def __init__(self, make, model, year, mileage):\n",
    "        self.make = make\n",
    "        self.model = model\n",
    "        self.year = year\n",
    "        self.mileage = mileage\n",
    "        \n",
    "    def get_info(self):\n",
    "        return f\"Model: {self.make}, {self.model}, Year: {self.year}, Mileage is: {self.mileage} miles.\"\n",
    "        \n",
    "    def drive(self, miles):\n",
    "        self.mileage += miles\n",
    "        return f\"Driven {miles} miles\"\n",
    "        \n",
    "my_car = Car('Audi', 'Allroad', 2005, 150000)\n",
    "\n",
    "print(my_car.get_info())\n",
    "print(my_car.drive(100))\n",
    "print(my_car.get_info())"
   ]
  },
  {
   "cell_type": "code",
   "execution_count": 7,
   "id": "41a21dce-5ac5-4ebd-9e09-9bcb43292b5c",
   "metadata": {},
   "outputs": [
    {
     "name": "stdout",
     "output_type": "stream",
     "text": [
      "Account_holder: Aly, Account_number: 5478-6440-1047-3322, Balance: 1500\n",
      "Error: Incorrect input for deposit.\n",
      "Error: Insufficient funds.\n",
      "1500\n"
     ]
    }
   ],
   "source": [
    "class BankAccount:\n",
    "    def __init__(self, account_holder, account_number, balance):\n",
    "        self.account_holder = account_holder\n",
    "        self.account_number = account_number\n",
    "        self.balance = balance\n",
    "\n",
    "    def get_info(self):\n",
    "        return f\"Account_holder: {self.account_holder}, Account_number: {self.account_number}, Balance: {self.balance}\"\n",
    "\n",
    "    def deposit(self, amount):\n",
    "        if amount < 0:\n",
    "            return \"Error: Incorrect input for deposit.\"\n",
    "        self.balance += amount\n",
    "        return f\"Your balance now is {self.balance}\"\n",
    "\n",
    "    def withdraw(self, amount):\n",
    "        if amount < 0:\n",
    "            return \"Error: Cannot withdraw a negative amount.\"\n",
    "        if amount > self.balance:\n",
    "            return \"Error: Insufficient funds.\"\n",
    "        self.balance -= amount\n",
    "        return f\"Your balance now is {self.balance}\"\n",
    "\n",
    "    def get_balance(self):\n",
    "        return self.balance\n",
    "\n",
    "account = BankAccount('Aly', '5478-6440-1047-3322', 1500)\n",
    "\n",
    "print(account.get_info())\n",
    "print(account.deposit(-100))\n",
    "print(account.withdraw(1600))\n",
    "print(account.get_balance())"
   ]
  },
  {
   "cell_type": "code",
   "execution_count": 11,
   "id": "e9d9de19-c369-420e-a05b-b8916af0815f",
   "metadata": {},
   "outputs": [
    {
     "name": "stdin",
     "output_type": "stream",
     "text": [
      "Enter your name:  Berik\n",
      "Enter your age:  45\n",
      "Choose a movie by number (1-5):  3\n"
     ]
    },
    {
     "name": "stdout",
     "output_type": "stream",
     "text": [
      "Thank you Berik for choosing 'Venom: The Last Dance'!\n"
     ]
    },
    {
     "name": "stdin",
     "output_type": "stream",
     "text": [
      "How much money are you gonna spend today?  100\n"
     ]
    },
    {
     "name": "stdout",
     "output_type": "stream",
     "text": [
      "Here is your ticket. Have a good time!\n",
      "Dear Berik, your movie 3, 'Venom: The Last Dance' starts at 17:00, in hall number: 4, your seat number is: 47.\n"
     ]
    }
   ],
   "source": [
    "import random\n",
    "\n",
    "g = [1, 100]\n",
    "nc17 = [17, 100]\n",
    "pg13 = [13, 100]\n",
    "schedule = [1, 2, 3, 4, 5]\n",
    "title = ['Deadpool 2', 'Terminator: Dark Fate', 'Venom: The Last Dance', 'A Quiet Place 2', 'Alien: Romulus']\n",
    "time = ['11:30', '15:00', '17:00', '19:00', '21:00']\n",
    "rates = [g, pg13, nc17, pg13, nc17]\n",
    "\n",
    "class Cinema:\n",
    "    def __init__(self, schedule, title, time, rate):\n",
    "        self.schedule = schedule\n",
    "        self.title = title\n",
    "        self.time = time\n",
    "        self.hall = random.randint(1, 5)\n",
    "        self.rate = rate\n",
    "        self.seat = random.randint(1, 50)\n",
    "\n",
    "    def show(self):\n",
    "        return f\"Schedule: {self.schedule}, Title: {self.title}, Time: {self.time}, Hall: {self.hall}, Seat: {self.seat}, Rate: {self.rate}\"\n",
    "\n",
    "    def get_name(self):\n",
    "        self.name = input(\"Enter your name: \")\n",
    "        return self.name\n",
    "\n",
    "    def get_age(self):\n",
    "        self.age = int(input(\"Enter your age: \"))\n",
    "        return self.age\n",
    "\n",
    "    def buy(self):\n",
    "        self.amount = int(input(\"How much money are you gonna spend today? \"))\n",
    "        price = 100\n",
    "        if self.amount < price:\n",
    "            print(\"Insufficient funds :(. Ticket price 100\")\n",
    "            return\n",
    "        print(\"Here is your ticket. Have a good time!\")\n",
    "\n",
    "    def choose(self):\n",
    "        self.get_name()\n",
    "        self.age = self.get_age()\n",
    "\n",
    "        movie_index = int(input(\"Choose a movie by number (1-5): \")) - 1\n",
    "        if movie_index < 0 or movie_index >= len(self.title):\n",
    "          print(\"Error. Please enter a number from 1 to 5\")\n",
    "          return\n",
    "        selected_rate = self.rate[movie_index]\n",
    "\n",
    "        if self.age < selected_rate[0]:\n",
    "            print(f\"{self.name}, you are not allowed to watch '{self.title[movie_index]}' due to your age.\")\n",
    "        else:\n",
    "            print(f\"Thank you {self.name} for choosing '{self.title[movie_index]}'!\")\n",
    "            self.buy()\n",
    "            if self.amount >= 100:\n",
    "                print(self.receipt(movie_index))\n",
    "\n",
    "    def receipt(self, movie_index):\n",
    "        return (f\"Dear {self.name}, your movie {self.schedule[movie_index]}, '{self.title[movie_index]}' starts at {self.time[movie_index]}\"\n",
    "                f\", in hall number: {self.hall}, your seat number is: {self.seat}.\")\n",
    "\n",
    "cinema = Cinema(schedule, title, time, rates)\n",
    "cinema.choose()"
   ]
  },
  {
   "cell_type": "code",
   "execution_count": null,
   "id": "e039538e-a3ca-445a-bdc1-b8e9c07788fb",
   "metadata": {},
   "outputs": [],
   "source": []
  }
 ],
 "metadata": {
  "kernelspec": {
   "display_name": "Python 3 (ipykernel)",
   "language": "python",
   "name": "python3"
  },
  "language_info": {
   "codemirror_mode": {
    "name": "ipython",
    "version": 3
   },
   "file_extension": ".py",
   "mimetype": "text/x-python",
   "name": "python",
   "nbconvert_exporter": "python",
   "pygments_lexer": "ipython3",
   "version": "3.12.4"
  }
 },
 "nbformat": 4,
 "nbformat_minor": 5
}
